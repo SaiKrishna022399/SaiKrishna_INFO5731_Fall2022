{
  "cells": [
    {
      "cell_type": "markdown",
      "metadata": {
        "id": "view-in-github",
        "colab_type": "text"
      },
      "source": [
        "<a href=\"https://colab.research.google.com/github/SaiKrishna022399/SaiKrishna_INFO5731_Fall2022/blob/main/Sai_Krishna_Sarvadervabhatla_Info_5731_Assignment2.ipynb\" target=\"_parent\"><img src=\"https://colab.research.google.com/assets/colab-badge.svg\" alt=\"Open In Colab\"/></a>"
      ]
    },
    {
      "cell_type": "markdown",
      "metadata": {
        "id": "K-90Hcen0CWp"
      },
      "source": [
        "## The second In-class-exercise (02/07/2023, 40 points in total)"
      ]
    },
    {
      "cell_type": "markdown",
      "metadata": {
        "id": "EPt2HsM00CWr"
      },
      "source": [
        "The purpose of this exercise is to understand users' information needs, then collect data from different sources for analysis."
      ]
    },
    {
      "cell_type": "markdown",
      "metadata": {
        "id": "sNWX7xWl0CWs"
      },
      "source": [
        "Question 1 (10 points): Describe an interesting research question (or practical question) you have in mind, what kind of data should be collected to answer the question(s)? How many data needed for the analysis? The detail steps for collecting and save the data. "
      ]
    },
    {
      "cell_type": "code",
      "execution_count": null,
      "metadata": {
        "id": "bYJeRHpo0CWs"
      },
      "outputs": [],
      "source": [
        "# Your answer here (no code for this question, write down your answer as detail as possible for the above questions):\n",
        "\n",
        "\n",
        "Please write you answer here:\n",
        "\n",
        "Analyzing the relationship between movie reviews and box office take is an intriguing research subject in the film industry. We can take the resources from several online websites such as IMBD or Rotten Tomotaoes and perform the analysis.\n",
        "The movie names from the Rotten Tomatoes website can be web scraped using the BeautifulSoup Python tool to gather the data.\n",
        "For instance, we can gather data on 1000 films. The following procedures must be taken in order to gather and save the data:\n",
        "    1) Utilize the BeautifulSoup library to scrape the Rotten Tomatoes website for each film names.\n",
        "    2) Extract movie details like the average review score and the number of reviews.\n",
        "    3) Store the extracted information in a Python dictionary\n",
        "    4) Perform the data cleaning, i.e if there are any of the duplicate records\n",
        "    5) Store the data that is cleansed in an dictonary\n",
        "    6) To use for further analysis, create a Pandas DataFrame from the dictionary and save it as a CSV file.\n",
        "    7) Write the data frame to CSV file so that list of movies that the CSV files lists them.\n",
        "    "
      ]
    },
    {
      "cell_type": "markdown",
      "metadata": {
        "id": "F-0pV-zO0CWt"
      },
      "source": [
        "Question 2 (10 points): Write python code to collect 1000 data samples you discussed above."
      ]
    },
    {
      "cell_type": "code",
      "execution_count": 14,
      "metadata": {
        "id": "0CdGVIW60CWt"
      },
      "outputs": [],
      "source": [
        "# You code here (Please add comments in the code):\n",
        "import requests\n",
        "import pandas as pd\n",
        "from bs4 import BeautifulSoup\n",
        "\n",
        "imdb_url = \"https://www.imdb.com/search/title?count=100&start={}&title_type=feature,tv_series&ref_=nv_wl_img_2\"\n",
        "rt_url = \"https://www.rottentomatoes.com/m/{}\"\n",
        "\n",
        "def get_data_imbd(url):\n",
        "    response = requests.get(url)\n",
        "    soup = BeautifulSoup(response.text, \"html.parser\")\n",
        "    hollywood_movies = soup.select(\"h3 > a\")\n",
        "    list1 = []\n",
        "    for movie in hollywood_movies:\n",
        "        title_of_movie = movie.get_text()\n",
        "        id_of_movie = movie.attrs[\"href\"].split(\"/\")[2]\n",
        "        list1.append([title_of_movie, id_of_movie])\n",
        "    return list1\n",
        "\n",
        "def get_rt_data(url):\n",
        "    response = requests.get(url)\n",
        "    soup = BeautifulSoup(response.text, \"html.parser\")\n",
        "    try:\n",
        "        movie_rating = soup.select_one(\".mop-ratings-wrap__percentage\").get_text()\n",
        "    except:\n",
        "        movie_rating = None\n",
        "    return movie_rating\n",
        "\n",
        "list2 = []\n",
        "for i in range(10):\n",
        "    count = i * 100 + 1\n",
        "    data_imbd = get_data_imbd(imdb_url.format(count))\n",
        "    for movie in data_imbd:\n",
        "        title_of_movie, id_of_movie = movie\n",
        "        rt_data = get_rt_data(rt_url.format(id_of_movie))\n",
        "        list2.append([title_of_movie, rt_data])\n",
        "\n",
        "data_frame = pd.DataFrame(list2, columns=[\"Title\", \"Rotten Tomatoes Rating\"])\n",
        "\n",
        "# Write to CSV File\n",
        "data_frame.to_csv(\"rotten_tomatos.csv\", index=False)\n"
      ]
    },
    {
      "cell_type": "markdown",
      "metadata": {
        "id": "IPzm5ltB0CWt"
      },
      "source": [
        "Question 3 (10 points): Write python code to collect 1000 articles from Google Scholar (https://scholar.google.com/), Microsoft Academic (https://academic.microsoft.com/home), or CiteSeerX (https://citeseerx.ist.psu.edu/index), or Semantic Scholar (https://www.semanticscholar.org/), or ACM Digital Libraries (https://dl.acm.org/) with the keyword \"information retrieval\". The articles should be published in the last 10 years (2012-2022).\n",
        "\n",
        "The following information of the article needs to be collected:\n",
        "\n",
        "(1) Title\n",
        "\n",
        "(2) Venue/journal/conference being published\n",
        "\n",
        "(3) Year\n",
        "\n",
        "(4) Authors\n",
        "\n",
        "(5) Abstract"
      ]
    },
    {
      "cell_type": "markdown",
      "metadata": {
        "id": "PhXw4eeg0CWv"
      },
      "source": [
        "Question 4 (10 points): Write python code to collect 1000 posts from Twitter, or Facebook, or Instagram. You can either use hashtags, keywords, user_name, user_id, or other information to collect the data. \n",
        "\n",
        "The following information needs to be collected:\n",
        "\n",
        "(1) User_name\n",
        "\n",
        "(2) Posted time\n",
        "\n",
        "(3) Text "
      ]
    },
    {
      "cell_type": "code",
      "source": [],
      "metadata": {
        "id": "oaAEr3G64sAT"
      },
      "execution_count": null,
      "outputs": []
    },
    {
      "cell_type": "code",
      "execution_count": 15,
      "metadata": {
        "colab": {
          "base_uri": "https://localhost:8080/",
          "height": 423
        },
        "id": "ttV0sp4a0CWv",
        "outputId": "9b6924d4-d2c8-499c-b86e-c8aa10ccbec9"
      },
      "outputs": [
        {
          "output_type": "execute_result",
          "data": {
            "text/plain": [
              "                   Time        Username  \\\n",
              "0   2023-02-13 04:05:40   luizarrodrigs   \n",
              "1   2023-02-13 04:05:00   hollyoutbreak   \n",
              "2   2023-02-13 04:04:08     WalSoares19   \n",
              "3   2023-02-13 04:03:43  UnknownSys3301   \n",
              "4   2023-02-13 04:03:42       hstmadeit   \n",
              "..                  ...             ...   \n",
              "995 2023-02-12 19:59:23    VozdeRosario   \n",
              "996 2023-02-12 19:59:13   nevegoutstyle   \n",
              "997 2023-02-12 19:58:53   icarusHouse91   \n",
              "998 2023-02-12 19:58:40       kingluanr   \n",
              "999 2023-02-12 19:58:25       herondalx   \n",
              "\n",
              "                                                 Tweet  \n",
              "0    RT @Michelyyos: sim, o leonardo dicaprio é um ...  \n",
              "1    While making #CatchMeIfYouCan, #LeonardoDiCapr...  \n",
              "2    RT @BritMartinez: I always see Leonardo DiCapr...  \n",
              "3    That game was a lot like Django but like if Ja...  \n",
              "4    RT @styIws_: sim, o leonardo dicaprio é um idi...  \n",
              "..                                                 ...  \n",
              "995  Qué opina Leonardo DiCaprio sobre su reputació...  \n",
              "996  RT @louashryver: sim, o leonardo dicaprio é um...  \n",
              "997  eh a sofia santino na frente do leonardo dicap...  \n",
              "998  RT @godevilith: sim, o leonardo dicaprio é um ...  \n",
              "999  RT @mafiamercedista: sim, o leonardo dicaprio ...  \n",
              "\n",
              "[1000 rows x 3 columns]"
            ],
            "text/html": [
              "\n",
              "  <div id=\"df-fb94805f-c7f5-4c5e-9a97-e32efabcb428\">\n",
              "    <div class=\"colab-df-container\">\n",
              "      <div>\n",
              "<style scoped>\n",
              "    .dataframe tbody tr th:only-of-type {\n",
              "        vertical-align: middle;\n",
              "    }\n",
              "\n",
              "    .dataframe tbody tr th {\n",
              "        vertical-align: top;\n",
              "    }\n",
              "\n",
              "    .dataframe thead th {\n",
              "        text-align: right;\n",
              "    }\n",
              "</style>\n",
              "<table border=\"1\" class=\"dataframe\">\n",
              "  <thead>\n",
              "    <tr style=\"text-align: right;\">\n",
              "      <th></th>\n",
              "      <th>Time</th>\n",
              "      <th>Username</th>\n",
              "      <th>Tweet</th>\n",
              "    </tr>\n",
              "  </thead>\n",
              "  <tbody>\n",
              "    <tr>\n",
              "      <th>0</th>\n",
              "      <td>2023-02-13 04:05:40</td>\n",
              "      <td>luizarrodrigs</td>\n",
              "      <td>RT @Michelyyos: sim, o leonardo dicaprio é um ...</td>\n",
              "    </tr>\n",
              "    <tr>\n",
              "      <th>1</th>\n",
              "      <td>2023-02-13 04:05:00</td>\n",
              "      <td>hollyoutbreak</td>\n",
              "      <td>While making #CatchMeIfYouCan, #LeonardoDiCapr...</td>\n",
              "    </tr>\n",
              "    <tr>\n",
              "      <th>2</th>\n",
              "      <td>2023-02-13 04:04:08</td>\n",
              "      <td>WalSoares19</td>\n",
              "      <td>RT @BritMartinez: I always see Leonardo DiCapr...</td>\n",
              "    </tr>\n",
              "    <tr>\n",
              "      <th>3</th>\n",
              "      <td>2023-02-13 04:03:43</td>\n",
              "      <td>UnknownSys3301</td>\n",
              "      <td>That game was a lot like Django but like if Ja...</td>\n",
              "    </tr>\n",
              "    <tr>\n",
              "      <th>4</th>\n",
              "      <td>2023-02-13 04:03:42</td>\n",
              "      <td>hstmadeit</td>\n",
              "      <td>RT @styIws_: sim, o leonardo dicaprio é um idi...</td>\n",
              "    </tr>\n",
              "    <tr>\n",
              "      <th>...</th>\n",
              "      <td>...</td>\n",
              "      <td>...</td>\n",
              "      <td>...</td>\n",
              "    </tr>\n",
              "    <tr>\n",
              "      <th>995</th>\n",
              "      <td>2023-02-12 19:59:23</td>\n",
              "      <td>VozdeRosario</td>\n",
              "      <td>Qué opina Leonardo DiCaprio sobre su reputació...</td>\n",
              "    </tr>\n",
              "    <tr>\n",
              "      <th>996</th>\n",
              "      <td>2023-02-12 19:59:13</td>\n",
              "      <td>nevegoutstyle</td>\n",
              "      <td>RT @louashryver: sim, o leonardo dicaprio é um...</td>\n",
              "    </tr>\n",
              "    <tr>\n",
              "      <th>997</th>\n",
              "      <td>2023-02-12 19:58:53</td>\n",
              "      <td>icarusHouse91</td>\n",
              "      <td>eh a sofia santino na frente do leonardo dicap...</td>\n",
              "    </tr>\n",
              "    <tr>\n",
              "      <th>998</th>\n",
              "      <td>2023-02-12 19:58:40</td>\n",
              "      <td>kingluanr</td>\n",
              "      <td>RT @godevilith: sim, o leonardo dicaprio é um ...</td>\n",
              "    </tr>\n",
              "    <tr>\n",
              "      <th>999</th>\n",
              "      <td>2023-02-12 19:58:25</td>\n",
              "      <td>herondalx</td>\n",
              "      <td>RT @mafiamercedista: sim, o leonardo dicaprio ...</td>\n",
              "    </tr>\n",
              "  </tbody>\n",
              "</table>\n",
              "<p>1000 rows × 3 columns</p>\n",
              "</div>\n",
              "      <button class=\"colab-df-convert\" onclick=\"convertToInteractive('df-fb94805f-c7f5-4c5e-9a97-e32efabcb428')\"\n",
              "              title=\"Convert this dataframe to an interactive table.\"\n",
              "              style=\"display:none;\">\n",
              "        \n",
              "  <svg xmlns=\"http://www.w3.org/2000/svg\" height=\"24px\"viewBox=\"0 0 24 24\"\n",
              "       width=\"24px\">\n",
              "    <path d=\"M0 0h24v24H0V0z\" fill=\"none\"/>\n",
              "    <path d=\"M18.56 5.44l.94 2.06.94-2.06 2.06-.94-2.06-.94-.94-2.06-.94 2.06-2.06.94zm-11 1L8.5 8.5l.94-2.06 2.06-.94-2.06-.94L8.5 2.5l-.94 2.06-2.06.94zm10 10l.94 2.06.94-2.06 2.06-.94-2.06-.94-.94-2.06-.94 2.06-2.06.94z\"/><path d=\"M17.41 7.96l-1.37-1.37c-.4-.4-.92-.59-1.43-.59-.52 0-1.04.2-1.43.59L10.3 9.45l-7.72 7.72c-.78.78-.78 2.05 0 2.83L4 21.41c.39.39.9.59 1.41.59.51 0 1.02-.2 1.41-.59l7.78-7.78 2.81-2.81c.8-.78.8-2.07 0-2.86zM5.41 20L4 18.59l7.72-7.72 1.47 1.35L5.41 20z\"/>\n",
              "  </svg>\n",
              "      </button>\n",
              "      \n",
              "  <style>\n",
              "    .colab-df-container {\n",
              "      display:flex;\n",
              "      flex-wrap:wrap;\n",
              "      gap: 12px;\n",
              "    }\n",
              "\n",
              "    .colab-df-convert {\n",
              "      background-color: #E8F0FE;\n",
              "      border: none;\n",
              "      border-radius: 50%;\n",
              "      cursor: pointer;\n",
              "      display: none;\n",
              "      fill: #1967D2;\n",
              "      height: 32px;\n",
              "      padding: 0 0 0 0;\n",
              "      width: 32px;\n",
              "    }\n",
              "\n",
              "    .colab-df-convert:hover {\n",
              "      background-color: #E2EBFA;\n",
              "      box-shadow: 0px 1px 2px rgba(60, 64, 67, 0.3), 0px 1px 3px 1px rgba(60, 64, 67, 0.15);\n",
              "      fill: #174EA6;\n",
              "    }\n",
              "\n",
              "    [theme=dark] .colab-df-convert {\n",
              "      background-color: #3B4455;\n",
              "      fill: #D2E3FC;\n",
              "    }\n",
              "\n",
              "    [theme=dark] .colab-df-convert:hover {\n",
              "      background-color: #434B5C;\n",
              "      box-shadow: 0px 1px 3px 1px rgba(0, 0, 0, 0.15);\n",
              "      filter: drop-shadow(0px 1px 2px rgba(0, 0, 0, 0.3));\n",
              "      fill: #FFFFFF;\n",
              "    }\n",
              "  </style>\n",
              "\n",
              "      <script>\n",
              "        const buttonEl =\n",
              "          document.querySelector('#df-fb94805f-c7f5-4c5e-9a97-e32efabcb428 button.colab-df-convert');\n",
              "        buttonEl.style.display =\n",
              "          google.colab.kernel.accessAllowed ? 'block' : 'none';\n",
              "\n",
              "        async function convertToInteractive(key) {\n",
              "          const element = document.querySelector('#df-fb94805f-c7f5-4c5e-9a97-e32efabcb428');\n",
              "          const dataTable =\n",
              "            await google.colab.kernel.invokeFunction('convertToInteractive',\n",
              "                                                     [key], {});\n",
              "          if (!dataTable) return;\n",
              "\n",
              "          const docLinkHtml = 'Like what you see? Visit the ' +\n",
              "            '<a target=\"_blank\" href=https://colab.research.google.com/notebooks/data_table.ipynb>data table notebook</a>'\n",
              "            + ' to learn more about interactive tables.';\n",
              "          element.innerHTML = '';\n",
              "          dataTable['output_type'] = 'display_data';\n",
              "          await google.colab.output.renderOutput(dataTable, element);\n",
              "          const docLink = document.createElement('div');\n",
              "          docLink.innerHTML = docLinkHtml;\n",
              "          element.appendChild(docLink);\n",
              "        }\n",
              "      </script>\n",
              "    </div>\n",
              "  </div>\n",
              "  "
            ]
          },
          "metadata": {},
          "execution_count": 15
        }
      ],
      "source": [
        "import tweepy         \n",
        "import pandas as pd\n",
        "import time\n",
        "\n",
        "consumer_key = 'QJ1b2AMTf7hBJaiwlVci1I2QP'\n",
        "consumer_secret = 'OvwBO7HrXCSIsTDQ4vhDHMt4sLH6uhzACdofakjoSao0ykoiTu'\n",
        "access_token = '1622258397520199680-4QuGBLqEPaqqlYhHpd4zELfUuhvDcM'\n",
        "access_token_secret = 'alvgIJKdPNygjOqGyAoz9VMQQ1Td7RDnrmzKMmLe5xl8b'\n",
        "\n",
        "\n",
        "\n",
        "auth = tweepy.OAuthHandler(consumer_key, consumer_secret)  \n",
        "auth.set_access_token(access_token, access_token_secret) \n",
        "api = tweepy.API(auth,wait_on_rate_limit=True)\n",
        "\n",
        "cur = tweepy.Cursor(api.search, q=\"Leonardo DiCaprio\", tweet_mode = 'extended').items(1000)\n",
        "\n",
        "tweets = [[i. created_at, i.user.screen_name, i.full_text] for i in cur]\n",
        "\n",
        "data_frame = pd.DataFrame(data=tweets,columns=['Time','Username','Tweet'])\n",
        "data_frame"
      ]
    },
    {
      "cell_type": "code",
      "source": [],
      "metadata": {
        "id": "uaOU73By1NtB"
      },
      "execution_count": null,
      "outputs": []
    }
  ],
  "metadata": {
    "kernelspec": {
      "display_name": "Python 3 (ipykernel)",
      "language": "python",
      "name": "python3"
    },
    "language_info": {
      "codemirror_mode": {
        "name": "ipython",
        "version": 3
      },
      "file_extension": ".py",
      "mimetype": "text/x-python",
      "name": "python",
      "nbconvert_exporter": "python",
      "pygments_lexer": "ipython3",
      "version": "3.9.12"
    },
    "colab": {
      "provenance": [],
      "include_colab_link": true
    }
  },
  "nbformat": 4,
  "nbformat_minor": 0
}