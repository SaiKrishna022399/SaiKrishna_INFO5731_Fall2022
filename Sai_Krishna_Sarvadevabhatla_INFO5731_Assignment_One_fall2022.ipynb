{
  "cells": [
    {
      "cell_type": "markdown",
      "metadata": {
        "id": "view-in-github",
        "colab_type": "text"
      },
      "source": [
        "<a href=\"https://colab.research.google.com/github/SaiKrishna022399/SaiKrishna_INFO5731_Fall2022/blob/main/Sai_Krishna_Sarvadevabhatla_INFO5731_Assignment_One_fall2022.ipynb\" target=\"_parent\"><img src=\"https://colab.research.google.com/assets/colab-badge.svg\" alt=\"Open In Colab\"/></a>"
      ]
    },
    {
      "cell_type": "markdown",
      "metadata": {
        "id": "Ryk8D1Q4Wsrp"
      },
      "source": [
        "# **INFO5731 Assignment One**"
      ]
    },
    {
      "cell_type": "markdown",
      "metadata": {
        "id": "90_NR8c5XGWc"
      },
      "source": [
        "# Question 1\n",
        "\n",
        "(20 points). Write a Python program to generate 12 random numbers between 1 and 100. Sort the list of numbers in ascending order and print it out. Sort the list of numbers in descending order and print it out. Calculate the average for the group and print it out."
      ]
    },
    {
      "cell_type": "code",
      "execution_count": 2,
      "metadata": {
        "colab": {
          "base_uri": "https://localhost:8080/"
        },
        "id": "5QX6bJjGWXY9",
        "outputId": "d95f7702-66ea-4bec-bd13-73452bb5076a"
      },
      "outputs": [
        {
          "output_type": "stream",
          "name": "stdout",
          "text": [
            "asceding order of numbers is [5, 6, 11, 23, 33, 35, 55, 60, 72, 85, 86, 96]\n",
            "descending order of numbers is [96, 86, 85, 72, 60, 55, 35, 33, 23, 11, 6, 5]\n",
            "average of numbers is 47.25\n"
          ]
        }
      ],
      "source": [
        "# Your code here\n",
        "import random\n",
        "\n",
        "rand  = [random.randint(1, 100) for i in range(12)]\n",
        "rand.sort()\n",
        "print(\"asceding order of numbers is\", rand)\n",
        "rand.sort(reverse=True)\n",
        "print(\"descending order of numbers is\", rand)\n",
        "avg = sum(rand) / len(rand)\n",
        "print(\"average of numbers is\", avg)"
      ]
    },
    {
      "cell_type": "markdown",
      "metadata": {
        "id": "1F_PZdH9Sh49"
      },
      "source": [
        "# Question 2\n",
        "(25 points). Write a program that will do the following string formatting tasks:\n",
        "\n",
        "(1) Ask the user to enter two sentences.\n",
        "\n",
        "(2) Make each sentence into a list. Each element in the list should correspond to a word in the sentence. For example, if the sentence is \"Alas! Am I alive? This is my first python program\", the program should print out ['Alas, '!', 'Am', 'I', 'alive, '?', 'This', 'is', 'my', 'first', 'python', 'program'].\n",
        "\n",
        "(3) Compare the two sentences. Print out a list of words that occur in both sentences.\n",
        "\n",
        "(4) Remove any punctuation from the sentence and print it back out. It should remove at least the following characters, but it can remove more: period(“.”), comma (“,”), semicolon (“;”), and colon (“:”)\n",
        "\n",
        "(5) Count the number of vowels in the sentences. Print out each vowel and the number of times it appears in the sentences, such as: a:2, e:1, i:0, etc"
      ]
    },
    {
      "cell_type": "code",
      "execution_count": 11,
      "metadata": {
        "colab": {
          "base_uri": "https://localhost:8080/"
        },
        "id": "Y0oOSlsOS0cq",
        "outputId": "cc9f7aaf-b2fe-4c66-b122-fb9e7908cced"
      },
      "outputs": [
        {
          "output_type": "stream",
          "name": "stdout",
          "text": [
            "Enter the first sentence: hey there how are you ,:\n",
            "Enter the second sentence: how are you ;,\n",
            "the first sentence as list is ['hey', 'there', 'how', 'are', 'you', ',:']\n",
            "the second sentance as list is ['how', 'are', 'you', ';,']\n",
            "The common words among two sentances are {'you', 'how', 'are'}\n",
            "First Sentance without punctuation is hey there how are you \n",
            "Second sentance without punctuation is: how are you \n",
            "Vowel count in sentence 1:\n",
            "a: 1\n",
            "e: 4\n",
            "i: 0\n",
            "o: 2\n",
            "u: 1\n",
            "A: 0\n",
            "E: 0\n",
            "I: 0\n",
            "O: 0\n",
            "U: 0\n",
            "Vowel count in sentence 2:\n",
            "a: 1\n",
            "e: 1\n",
            "i: 0\n",
            "o: 2\n",
            "u: 1\n",
            "A: 0\n",
            "E: 0\n",
            "I: 0\n",
            "O: 0\n",
            "U: 0\n"
          ]
        }
      ],
      "source": [
        "# Your code here\n",
        "import string\n",
        "\n",
        "# 1 - \n",
        "sen_a = input(\"Enter the first sentence: \")\n",
        "sen_b = input(\"Enter the second sentence: \")\n",
        "\n",
        "# 2 - \n",
        "lis_a = sen_a.split()\n",
        "lis_b = sen_b.split()\n",
        "print(\"the first sentence as list is\",lis_a)\n",
        "print(\"the second sentance as list is\",lis_b)\n",
        "\n",
        "# 3 - \n",
        "set_1 = set(lis_a)\n",
        "set_2 = set(lis_b)\n",
        "common = set_1.intersection(set_2)\n",
        "print(\"The common words among two sentances are\",common)\n",
        "\n",
        "# 4 - \n",
        "punctuation = \".,;:\"\n",
        "sena_without_punctuation = \"\".join([char for char in sen_a if char not in punctuation])\n",
        "senb_without_punctuation = \"\".join([char for char in sen_b if char not in punctuation])\n",
        "print(\"First Sentance without punctuation is\", sena_without_punctuation)\n",
        "print(\"Second sentance without punctuation is:\", senb_without_punctuation)\n",
        "\n",
        "# 5 -  \n",
        "vowel = \"aeiouAEIOU\"\n",
        "vowel_count = {v:0 for v in vowel}\n",
        "for char in sena_without_punctuation:\n",
        "    if char in vowel:\n",
        "        vowel_count[char] += 1\n",
        "vowel_count_1 = {v:0 for v in vowel}\n",
        "for char in senb_without_punctuation:\n",
        "    if char in vowel:\n",
        "        vowel_count_1[char] += 1\n",
        "print(\"Vowel count in sentence 1:\")\n",
        "for v, count in vowel_count.items():\n",
        "    print(f\"{v}: {count}\")\n",
        "print(\"Vowel count in sentence 2:\")\n",
        "for v, count in vowel_count_1.items():\n",
        "    print(f\"{v}: {count}\")"
      ]
    },
    {
      "cell_type": "markdown",
      "metadata": {
        "id": "CmFoI4jDS9nx"
      },
      "source": [
        "# Question 3 \n",
        "\n",
        "(15 points). The formula that describes the volume V of a sphere with radius r is the following:\n",
        "\n",
        "$ V=\\frac{4}{3}\\ast\\ \\pi\\ast\\ r^3 $\n",
        "\n",
        "Write a program to calculate the value of V when r is in the range of 1–10. Output the result in the following format:\n",
        "\n",
        "\tr\tV\n",
        "\t1\t…\n",
        "\t2\t…\n",
        "\t3\t…\n"
      ]
    },
    {
      "cell_type": "code",
      "execution_count": 9,
      "metadata": {
        "colab": {
          "base_uri": "https://localhost:8080/"
        },
        "id": "pEyqeioAT95b",
        "outputId": "72bf6fd1-fe6e-407a-cdd9-86fcfe2fd4b8"
      },
      "outputs": [
        {
          "output_type": "stream",
          "name": "stdout",
          "text": [
            "radius is -  1 then volume  is -  4.19\n",
            "radius is -  2 then volume  is -  33.51\n",
            "radius is -  3 then volume  is -  113.1\n",
            "radius is -  4 then volume  is -  268.08\n",
            "radius is -  5 then volume  is -  523.6\n",
            "radius is -  6 then volume  is -  904.78\n",
            "radius is -  7 then volume  is -  1436.76\n",
            "radius is -  8 then volume  is -  2144.66\n",
            "radius is -  9 then volume  is -  3053.63\n",
            "radius is -  10 then volume  is -  4188.79\n"
          ]
        }
      ],
      "source": [
        "# Your code here\n",
        "\n",
        "import math\n",
        "\n",
        "for i in range(1, 11):\n",
        "    vol = (4 / 3) * math.pi * (i ** 3)\n",
        "    print(\"radius is - \", i, \"then volume  is - \", round(vol, 2))"
      ]
    },
    {
      "cell_type": "markdown",
      "metadata": {
        "id": "z3tBE7E-Xn5X"
      },
      "source": [
        "# Question 4\n",
        "\n",
        "(40 points). In the field of Data Science, data is often formatted as a comma-delimited (CSV) file, where each line in a file corresponds to a field's value. Refer to Chapter 9 (p. 106) for more information on comma-delimited files. To answer this question, you will need to download the file [Assignment1_denton_housing.csv](https://raw.githubusercontent.com/unt-iialab/info5731-spring2022/main/assignments/Assignment1_denton_housing.csv) included with this assignment. The file [Assignment1_denton_housing.csv](https://raw.githubusercontent.com/unt-iialab/info5731-spring2022/main/assignments/Assignment1_denton_housing.csv) contains statistics about housing in the city of Denton from 2008 to 2014. Write a program to implement the following questions.\n",
        "\n",
        "(1) (10 pts) Calculate the difference in the number of Occupied Housing Units from year to year and print it. The difference must be calculated for the consecutive years such as 2008-2009, 2009-2010 etc. Finally, print the values in the ascending order.\n",
        "\n",
        "(2) (10 pts) For all the years, calculate the percentage of housing units which are vacant an occupied. Print the results in the following format:\n",
        "\n",
        "Year Vacant Housing Units Occupied Housing Units\n",
        "\n",
        "    2008  30%   70%                          \n",
        "\t2009 ----- -----\n",
        "\t2010 ----- -----\n",
        "    2011 ----- -----\n",
        "\t2012 ----- -----\n",
        "    2013 ----- -----\n",
        "\t2014 ----- -----\n",
        "  \n",
        "  \n",
        "\n",
        "(3) (10 pts) Calculate and print the valued and years in which the highest number of housing units were vacant and occupied. Print the results in the following format:  \n",
        "\n",
        "                              Year\tValue\n",
        "\tVacant Housing Units\t  -----   -----\n",
        "\tOccupied Housing Units\t-----   -----\n",
        "\n",
        "(4) (10 pts) Calculate the harmonic mean of the total housing units and print it out. You can find the information about harmonic mean here: https://ncalculators.com/statistics/harmonic-mean-calculator.htm"
      ]
    },
    {
      "cell_type": "code",
      "source": [
        "import csv\n",
        "\n",
        "with open('Assignment1_denton_housing.csv') as file:\n",
        "    reader = csv.reader(file)\n",
        "    header = next(reader)\n",
        "    data = list(reader)\n",
        "years_1 = [row[0] for row in data]\n",
        "occupied_1 = []\n",
        "for row in data:\n",
        "    occupied_1.append(row[1])\n",
        "\n",
        "difference = [int(occupied_1[i+1]) - int(occupied_1[i]) for i in range(len(occupied_1) - 1)]\n",
        "difference.sort()\n",
        "\n",
        "print(\"Difference is\")\n",
        "for y, d in zip(years_1[1:], difference):\n",
        "    print(f\"{y}-{y-1}: {d}\")\n",
        "\n",
        "vacant_1 = [int(row[2]) for row in data]\n",
        "\n",
        "print(\"\\nVacant and Occupied Housing Units\")\n",
        "for y, vacant, occupied in zip(years_1, vacant_1, occupied_1):\n",
        "    sum = vacant + occupied\n",
        "    print(f\"{y} {vacant/sum:.2f} {occupied/sum:.2f}\")"
      ],
      "metadata": {
        "id": "LonLt2gNLnBp"
      },
      "execution_count": null,
      "outputs": []
    }
  ],
  "metadata": {
    "colab": {
      "provenance": [],
      "include_colab_link": true
    },
    "kernelspec": {
      "display_name": "Python 3 (ipykernel)",
      "language": "python",
      "name": "python3"
    },
    "language_info": {
      "codemirror_mode": {
        "name": "ipython",
        "version": 3
      },
      "file_extension": ".py",
      "mimetype": "text/x-python",
      "name": "python",
      "nbconvert_exporter": "python",
      "pygments_lexer": "ipython3",
      "version": "3.9.12"
    }
  },
  "nbformat": 4,
  "nbformat_minor": 0
}