{
  "cells": [
    {
      "cell_type": "markdown",
      "metadata": {
        "id": "view-in-github",
        "colab_type": "text"
      },
      "source": [
        "<a href=\"https://colab.research.google.com/github/SaiKrishna022399/SaiKrishna_INFO5731_Spring2020/blob/main/SaiKrishnaSarvadevabhatla_Assign1.ipynb\" target=\"_parent\"><img src=\"https://colab.research.google.com/assets/colab-badge.svg\" alt=\"Open In Colab\"/></a>"
      ]
    },
    {
      "cell_type": "markdown",
      "metadata": {
        "id": "DymRJbxDBCnf"
      },
      "source": [
        "# **The first In-class-exercise (01/24/2023, 40 points in total)**"
      ]
    },
    {
      "cell_type": "markdown",
      "metadata": {
        "id": "03jb4GZsBkBS"
      },
      "source": [
        "(1) Write a Python program to calculate the length of a string. (4 points)"
      ]
    },
    {
      "cell_type": "code",
      "execution_count": 5,
      "metadata": {
        "id": "YaGLbSHHB8Ej",
        "colab": {
          "base_uri": "https://localhost:8080/"
        },
        "outputId": "bfaa275c-1914-4d31-d049-0b7436be1e1a"
      },
      "outputs": [
        {
          "output_type": "stream",
          "name": "stdout",
          "text": [
            "Enter the stringlengthis\n",
            "Length of string is 8\n"
          ]
        }
      ],
      "source": [
        "# write your answer here\n",
        "str = input(\"Enter the string\")\n",
        "count = 0 \n",
        "for i in str:\n",
        "  count = count + 1\n",
        "print(\"Length of string is\", count)"
      ]
    },
    {
      "cell_type": "markdown",
      "metadata": {
        "id": "jJDe71iLB616"
      },
      "source": [
        "(2) Write a Python program to count the number of characters in a string. (4 points)\n",
        "\n",
        "Sample String : 'google.com‘, \n",
        "\n",
        "Expected Result : {'o': 3, 'g': 2, '.': 1, 'e': 1, 'l': 1, 'm': 1, 'c': 1}"
      ]
    },
    {
      "cell_type": "code",
      "execution_count": 12,
      "metadata": {
        "id": "MtKskTzbCLaU",
        "colab": {
          "base_uri": "https://localhost:8080/"
        },
        "outputId": "b3d91d0e-a396-4b78-c05a-91f129dc08db"
      },
      "outputs": [
        {
          "output_type": "stream",
          "name": "stdout",
          "text": [
            "{'g': 2, 'o': 3, 'l': 1, 'e': 1, '.': 1, 'c': 1, 'm': 1}\n"
          ]
        }
      ],
      "source": [
        "# write your answer here\n",
        "str1 = 'google.com'\n",
        "count = {}\n",
        "for char in str1:\n",
        "    if char in count:\n",
        "        count[char] += 1\n",
        "    else:\n",
        "        count[char] = 1\n",
        "\n",
        "print(count)"
      ]
    },
    {
      "cell_type": "markdown",
      "metadata": {
        "id": "55W9AMdXCSpV"
      },
      "source": [
        "(3) Write a Python program to sum all the items in a list. (4 points)"
      ]
    },
    {
      "cell_type": "code",
      "execution_count": 8,
      "metadata": {
        "id": "I57NXsauCec2",
        "colab": {
          "base_uri": "https://localhost:8080/"
        },
        "outputId": "244086ee-6a95-4fa4-c643-82c76449ed85"
      },
      "outputs": [
        {
          "output_type": "stream",
          "name": "stdout",
          "text": [
            "Enter a list element separated by space 4 5 6 7\n",
            "Sum of elemnts in list is 22\n"
          ]
        }
      ],
      "source": [
        "# write your answer here\n",
        "string = input(\"Enter a list element separated by space \")\n",
        "list1  = string.split()\n",
        "sum = 0\n",
        "for num in list1:\n",
        "    sum = sum + int (num)\n",
        "print(\"Sum of elemnts in list is\",sum)"
      ]
    },
    {
      "cell_type": "markdown",
      "metadata": {
        "id": "4ulBZ6yhCi9F"
      },
      "source": [
        "(4) Write a Python program to get a string from a given string where all occurrences of its first char have been changed to '\\$', except the first char itself. (4 points)\n",
        "\n",
        "Sample String : 'restart‘, \n",
        "\n",
        "Expected Result : 'resta\\$t'"
      ]
    },
    {
      "cell_type": "code",
      "execution_count": 11,
      "metadata": {
        "id": "Fj0XhwbBCw2o",
        "colab": {
          "base_uri": "https://localhost:8080/"
        },
        "outputId": "052b8b0f-4d79-4e23-9c9c-7c0350f455e4"
      },
      "outputs": [
        {
          "output_type": "stream",
          "name": "stdout",
          "text": [
            "Enter a stringrestart\n",
            "resta$t\n"
          ]
        }
      ],
      "source": [
        "# write your answer here\n",
        "str1 = input(\"Enter a string\")\n",
        "first_char = str1[0]\n",
        "str2 = \"\"\n",
        "for char in str1:\n",
        "    if char == first_char:\n",
        "        str2 += \"$\"\n",
        "    else:\n",
        "        str2 += char\n",
        "\n",
        "str2 = first_char + str2[1:]\n",
        "print(str2)"
      ]
    },
    {
      "cell_type": "markdown",
      "metadata": {
        "id": "_bIP7s1MCzue"
      },
      "source": [
        "(5) Write a program with python which could accept two parameter a and b to calculate and output the result of S, where \n",
        "\n",
        "$\\ S=3.14*(1+a/b)^3$ (4 points)\n",
        "\n"
      ]
    },
    {
      "cell_type": "code",
      "execution_count": 16,
      "metadata": {
        "id": "w79QilHXD3Mg",
        "colab": {
          "base_uri": "https://localhost:8080/"
        },
        "outputId": "5c8a8e98-8915-4e5f-c1cf-0777facbdd44"
      },
      "outputs": [
        {
          "output_type": "stream",
          "name": "stdout",
          "text": [
            "Enter a4\n",
            "Enter b3\n",
            "39.88962962962962\n"
          ]
        }
      ],
      "source": [
        "# write your answer here\n",
        "import math\n",
        "\n",
        "def cal(a, b):\n",
        "    S = 3.14 * (1 + (a / b)) ** 3\n",
        "    return S\n",
        "\n",
        "a = int(input(\"Enter a\"))\n",
        "b = int(input(\"Enter b\"))\n",
        "print(cal(a, b))"
      ]
    },
    {
      "cell_type": "markdown",
      "metadata": {
        "id": "xCa2bK9aD4Q3"
      },
      "source": [
        "(6) Write a Python program to concatenate following dictionaries to create a new one. (4 points)\n",
        "\n",
        "Sample Dictionary : dic1={1:10, 2:20}, dic2={3:30, 4:40}, dic3={5:50,6:60}, \n",
        "\n",
        "Expected Result : {1: 10, 2: 20, 3: 30, 4: 40, 5: 50, 6: 60}\n"
      ]
    },
    {
      "cell_type": "code",
      "execution_count": 18,
      "metadata": {
        "id": "_z4aLqAbEET1",
        "colab": {
          "base_uri": "https://localhost:8080/"
        },
        "outputId": "991e1dc7-7f4d-4a8b-9592-291cb7d3297f"
      },
      "outputs": [
        {
          "output_type": "stream",
          "name": "stdout",
          "text": [
            "{1: 10, 2: 20, 3: 30, 4: 40, 5: 50, 6: 60}\n"
          ]
        }
      ],
      "source": [
        "# write your answer here\n",
        "dic_1 = {1: 10, 2: 20}\n",
        "dic_2 = {3: 30, 4: 40}\n",
        "dic_3 = {5: 50, 6: 60}\n",
        "\n",
        "new_dict = {}\n",
        "for dic in (dic_1, dic_2, dic_3):\n",
        "    for key, value in dic.items():\n",
        "        new_dict[key] = value\n",
        "\n",
        "print(new_dict)"
      ]
    },
    {
      "cell_type": "markdown",
      "metadata": {
        "id": "0v48Vqa7FrQh"
      },
      "source": [
        "(7) Write a Python program to check whether an element exists within a tuple. (4 points)"
      ]
    },
    {
      "cell_type": "code",
      "execution_count": 34,
      "metadata": {
        "id": "7WEmgq-DF2P1",
        "colab": {
          "base_uri": "https://localhost:8080/"
        },
        "outputId": "cbbc1c37-f23b-498c-9f08-a707221baae9"
      },
      "outputs": [
        {
          "output_type": "stream",
          "name": "stdout",
          "text": [
            "Enter Element4\n",
            "element 4 exists in tuple\n"
          ]
        }
      ],
      "source": [
        "tupile = (1, 2, 3, 4, 5)\n",
        "element = int(input(\"Enter Element\"))\n",
        "\n",
        "for i in tupile:\n",
        "    if i == element:\n",
        "        print(\"element\",f\"{element} exists in tuple\")\n",
        "        break\n",
        "else:\n",
        "    print(\"element\",f\"{element} does not exist in tuple\")"
      ]
    },
    {
      "cell_type": "markdown",
      "metadata": {
        "id": "vD5PYLMuGga_"
      },
      "source": [
        "(8) Write a Python program to find maximum and the minimum value in a set. (4 points)"
      ]
    },
    {
      "cell_type": "code",
      "execution_count": 29,
      "metadata": {
        "id": "t0D5kdJUGjjw",
        "colab": {
          "base_uri": "https://localhost:8080/"
        },
        "outputId": "f15ca0f1-f451-44cf-caff-65ff822acf51"
      },
      "outputs": [
        {
          "output_type": "stream",
          "name": "stdout",
          "text": [
            "Max Value is 5\n",
            "Min value is 1\n"
          ]
        }
      ],
      "source": [
        "# write your answer here\n",
        "set_1 = {1, 2, 3, 4, 5}\n",
        "max_value = max(set_1)\n",
        "min_value = min(set_1)\n",
        "print(\"Max Value is\", max_value)\n",
        "print(\"Min value is\", min_value)"
      ]
    },
    {
      "cell_type": "markdown",
      "metadata": {
        "id": "uHkd-y5VhVWC"
      },
      "source": [
        "(9) Write a Python program to randomly divide the students in this class into six groups for term projects, each group should have at least 4 students but no more than 6 students (including 6). Here is the students list: (4 points)\n",
        "\n",
        "studnet_list = ['ja0964','sa1198','sb1357','vb0218','sc1229','kg0569','kg0470','sg1297','bg0320','fh0141','jl1252','sk1386',\n",
        "           'ak0956','sk1390','sk1458','sk1313','ak0934','vm0377','nm0618','sm1640','sm1907','gn0108','pr0353','dr0609','ms1500','aos0040','ds0814', 'av0659','nv0234','hy0232']"
      ]
    },
    {
      "cell_type": "code",
      "execution_count": 38,
      "metadata": {
        "id": "3iGbmcOBhTwy",
        "colab": {
          "base_uri": "https://localhost:8080/"
        },
        "outputId": "c97893d4-4461-4f35-8820-5a2a4d1cdb94"
      },
      "outputs": [
        {
          "output_type": "stream",
          "name": "stdout",
          "text": [
            "Group 1: ['sm1640', 'gn0108', 'hy0232', 'sa1198', 'av0659']\n",
            "Group 2: ['vb0218', 'aos0040', 'sg1297', 'sb1357', 'pr0353']\n",
            "Group 3: ['sk1390', 'bg0320', 'vm0377', 'jl1252', 'ja0964']\n",
            "Group 4: ['nv0234', 'ms1500', 'ds0814', 'ak0934', 'fh0141']\n",
            "Group 5: ['kg0569', 'sk1458', 'kg0470', 'sm1907', 'sk1313']\n"
          ]
        }
      ],
      "source": [
        "# write your answer here\n",
        "import random\n",
        "\n",
        "studnet_list = ['ja0964','sa1198','sb1357','vb0218','sc1229','kg0569','kg0470','sg1297','bg0320','fh0141','jl1252','sk1386', 'ak0956','sk1390','sk1458','sk1313','ak0934','vm0377','nm0618','sm1640','sm1907','gn0108','pr0353','dr0609','ms1500','aos0040','ds0814', 'av0659','nv0234','hy0232']\n",
        "random.shuffle(studnet_list)\n",
        "\n",
        "size = len(studnet_list) // 6\n",
        "rem_students = len(studnet_list) % 6\n",
        "\n",
        "list1 = []\n",
        "for i, s in enumerate(studnet_list):\n",
        "    list1.append(s)\n",
        "    if (i+1) % size == 0 and (i+1) != len(studnet_list):\n",
        "        print(f\"Group {(i+1)//size}: {list1}\")\n",
        "        list1 = []\n",
        "\n",
        "if rem_students > 0:\n",
        "    print(f\"Group {(i+1)//size + 1}: {studnet_list[-rem_students:]}\")\n"
      ]
    },
    {
      "cell_type": "markdown",
      "metadata": {
        "id": "_fVaztrkQ7t4"
      },
      "source": [
        "(10) Write a Python program to find the duplicate elements in a given array of integers. Return -1 If there are no such elements. (4 points)"
      ]
    },
    {
      "cell_type": "code",
      "execution_count": 42,
      "metadata": {
        "id": "CoHyjVUjQ7t4",
        "colab": {
          "base_uri": "https://localhost:8080/"
        },
        "outputId": "0c60a40a-3b72-4ec9-9802-06c64c1894d8"
      },
      "outputs": [
        {
          "output_type": "stream",
          "name": "stdout",
          "text": [
            "[1, 3, 5, 9]\n"
          ]
        }
      ],
      "source": [
        "# write your answer here\n",
        "def duplicates(aray_1):\n",
        "    list1 = []\n",
        "    for i in range(len(aray_1)):\n",
        "        for j in range(i+1, len(aray_1)):\n",
        "            if aray_1[i] == aray_1[j]:\n",
        "                list1.append(aray_1[i])\n",
        "    if len(list1) == 0:\n",
        "        return -1\n",
        "    else:\n",
        "        return list1\n",
        "\n",
        "aray_1 = [1, 2, 3, 4, 5,6,9,10,7, 8, 9,5,3,1]\n",
        "print(duplicates(aray_1))"
      ]
    },
    {
      "cell_type": "markdown",
      "metadata": {
        "id": "Zg9sgm1iQ7t4"
      },
      "source": [
        "(11) Write a Python program to select all the Sundays of a specified year. (4 extra points)"
      ]
    },
    {
      "cell_type": "code",
      "execution_count": 7,
      "metadata": {
        "id": "lamVapObQ7t4",
        "colab": {
          "base_uri": "https://localhost:8080/"
        },
        "outputId": "679e6474-a838-4087-fbde-da33395a76cc"
      },
      "outputs": [
        {
          "output_type": "stream",
          "name": "stdout",
          "text": [
            "Enter year to list all sunday dates2023\n",
            "2023-01-01\n",
            "2023-01-08\n",
            "2023-01-15\n",
            "2023-01-22\n",
            "2023-01-29\n",
            "2023-02-05\n",
            "2023-02-12\n",
            "2023-02-19\n",
            "2023-02-26\n",
            "2023-03-05\n",
            "2023-03-12\n",
            "2023-03-19\n",
            "2023-03-26\n",
            "2023-04-02\n",
            "2023-04-09\n",
            "2023-04-16\n",
            "2023-04-23\n",
            "2023-04-30\n",
            "2023-05-07\n",
            "2023-05-14\n",
            "2023-05-21\n",
            "2023-05-28\n",
            "2023-06-04\n",
            "2023-06-11\n",
            "2023-06-18\n",
            "2023-06-25\n",
            "2023-07-02\n",
            "2023-07-09\n",
            "2023-07-16\n",
            "2023-07-23\n",
            "2023-07-30\n",
            "2023-08-06\n",
            "2023-08-13\n",
            "2023-08-20\n",
            "2023-08-27\n",
            "2023-09-03\n",
            "2023-09-10\n",
            "2023-09-17\n",
            "2023-09-24\n",
            "2023-10-01\n",
            "2023-10-08\n",
            "2023-10-15\n",
            "2023-10-22\n",
            "2023-10-29\n",
            "2023-11-05\n",
            "2023-11-12\n",
            "2023-11-19\n",
            "2023-11-26\n",
            "2023-12-03\n",
            "2023-12-10\n",
            "2023-12-17\n",
            "2023-12-24\n",
            "2023-12-31\n"
          ]
        }
      ],
      "source": [
        "# write your answer here\n",
        "from datetime import date, timedelta\n",
        "\n",
        "year = int(input(\"Enter year to list all sunday dates\"))\n",
        "date_1 = date(year, 1, 1)  # January 1st\n",
        "date_1 += timedelta(days=(6 - date_1.weekday()))  # First Sunday\n",
        "list1 = []\n",
        "while date_1.year == year:\n",
        "    list1.append(date_1)\n",
        "    date_1 += timedelta(days=7)\n",
        "\n",
        "for sunday in list1:\n",
        "    print(sunday)\n"
      ]
    }
  ],
  "metadata": {
    "colab": {
      "provenance": [],
      "include_colab_link": true
    },
    "kernelspec": {
      "display_name": "Python 3 (ipykernel)",
      "language": "python",
      "name": "python3"
    },
    "language_info": {
      "codemirror_mode": {
        "name": "ipython",
        "version": 3
      },
      "file_extension": ".py",
      "mimetype": "text/x-python",
      "name": "python",
      "nbconvert_exporter": "python",
      "pygments_lexer": "ipython3",
      "version": "3.9.12"
    }
  },
  "nbformat": 4,
  "nbformat_minor": 0
}